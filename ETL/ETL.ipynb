{
 "cells": [
  {
   "cell_type": "code",
   "execution_count": 36,
   "id": "bc752070",
   "metadata": {},
   "outputs": [
    {
     "name": "stdout",
     "output_type": "stream",
     "text": [
      "    Cliente_ID      Nombre    Categoría  Cantidad  Precio      Método de Pago  \\\n",
      "0         1001   Cliente_1  Electrónica         2   45.50              PayPal   \n",
      "1         1002   Cliente_2         Moda         1   30.00  Tarjeta de Crédito   \n",
      "2         1003   Cliente_3        Hogar         3   25.75            Efectivo   \n",
      "3         1004   Cliente_4     Deportes         4   50.00  Tarjeta de Crédito   \n",
      "4         1005   Cliente_5          NaN         2   40.00              PayPal   \n",
      "5         1006   Cliente_6  Electrónica         6   75.25            Efectivo   \n",
      "6         1007   Cliente_7  Electrónica        50   90.00  Tarjeta de Crédito   \n",
      "7         1008   Cliente_8     Deportes        60   85.00            Efectivo   \n",
      "8         1009   Cliente_9         Moda         5   32.50              PayPal   \n",
      "9         1010  Cliente_10        Hogar         7   95.00            Efectivo   \n",
      "10        1011  Cliente_11         Moda         3     NaN            Efectivo   \n",
      "11        1005   Cliente_5          NaN         2   40.00              PayPal   \n",
      "12        1007   Cliente_7  Electrónica        50   90.00  Tarjeta de Crédito   \n",
      "\n",
      "         Fecha  \n",
      "0   2024-01-01  \n",
      "1   2024-01-02  \n",
      "2   2024-01-03  \n",
      "3   2024-01-04  \n",
      "4   2024-01-05  \n",
      "5   2024-01-06  \n",
      "6   2024-01-07  \n",
      "7   2024-01-08  \n",
      "8   2024-01-09  \n",
      "9   2024-01-10  \n",
      "10  2024-01-11  \n",
      "11  2024-01-05  \n",
      "12  2024-01-07  \n"
     ]
    }
   ],
   "source": [
    "#Importar pandas y cargar el archivo CSV\n",
    "import pandas as pd\n",
    "\n",
    "df = pd.read_csv(r'C:\\Users\\dschu\\OneDrive\\Documentos\\CursoCienciasDeDatos\\M3\\s4\\ventas.csv')\n",
    "print(df)"
   ]
  },
  {
   "cell_type": "code",
   "execution_count": 37,
   "id": "c86d5038",
   "metadata": {},
   "outputs": [
    {
     "name": "stdout",
     "output_type": "stream",
     "text": [
      "<class 'pandas.core.frame.DataFrame'>\n",
      "RangeIndex: 13 entries, 0 to 12\n",
      "Data columns (total 7 columns):\n",
      " #   Column          Non-Null Count  Dtype  \n",
      "---  ------          --------------  -----  \n",
      " 0   Cliente_ID      13 non-null     int64  \n",
      " 1   Nombre          13 non-null     object \n",
      " 2   Categoría       11 non-null     object \n",
      " 3   Cantidad        13 non-null     int64  \n",
      " 4   Precio          12 non-null     float64\n",
      " 5   Método de Pago  13 non-null     object \n",
      " 6   Fecha           13 non-null     object \n",
      "dtypes: float64(1), int64(2), object(4)\n",
      "memory usage: 860.0+ bytes\n",
      "None\n",
      "--------------------------------\n",
      "       Cliente_ID   Cantidad     Precio\n",
      "count    13.00000  13.000000  12.000000\n",
      "mean   1006.00000  15.000000  58.250000\n",
      "std       3.05505  22.045408  26.603785\n",
      "min    1001.00000   1.000000  25.750000\n",
      "25%    1004.00000   2.000000  38.125000\n",
      "50%    1006.00000   4.000000  47.750000\n",
      "75%    1008.00000   7.000000  86.250000\n",
      "max    1011.00000  60.000000  95.000000\n"
     ]
    }
   ],
   "source": [
    "# Análisis inicial del DataFrame\n",
    "print(df.info())\n",
    "print('--------------------------------')\n",
    "print(df.describe())"
   ]
  },
  {
   "cell_type": "code",
   "execution_count": 38,
   "id": "65af95b6",
   "metadata": {},
   "outputs": [
    {
     "name": "stdout",
     "output_type": "stream",
     "text": [
      "0     False\n",
      "1     False\n",
      "2     False\n",
      "3     False\n",
      "4     False\n",
      "5     False\n",
      "6     False\n",
      "7     False\n",
      "8     False\n",
      "9     False\n",
      "10    False\n",
      "11     True\n",
      "12     True\n",
      "dtype: bool\n",
      "Cliente_ID        0\n",
      "Nombre            0\n",
      "Categoría         2\n",
      "Cantidad          0\n",
      "Precio            1\n",
      "Método de Pago    0\n",
      "Fecha             0\n",
      "dtype: int64\n"
     ]
    }
   ],
   "source": [
    "# Revisar duplicados y valores nulos\n",
    "print(df.duplicated())\n",
    "print(df.isna().sum())"
   ]
  },
  {
   "cell_type": "code",
   "execution_count": 39,
   "id": "24272a95",
   "metadata": {},
   "outputs": [
    {
     "name": "stdout",
     "output_type": "stream",
     "text": [
      "    Cliente_ID      Nombre    Categoría  Cantidad  Precio      Método de Pago  \\\n",
      "0         1001   Cliente_1  Electrónica         2   45.50              PayPal   \n",
      "1         1002   Cliente_2         Moda         1   30.00  Tarjeta de Crédito   \n",
      "2         1003   Cliente_3        Hogar         3   25.75            Efectivo   \n",
      "3         1004   Cliente_4     Deportes         4   50.00  Tarjeta de Crédito   \n",
      "4         1005   Cliente_5          NaN         2   40.00              PayPal   \n",
      "5         1006   Cliente_6  Electrónica         6   75.25            Efectivo   \n",
      "6         1007   Cliente_7  Electrónica        50   90.00  Tarjeta de Crédito   \n",
      "7         1008   Cliente_8     Deportes        60   85.00            Efectivo   \n",
      "8         1009   Cliente_9         Moda         5   32.50              PayPal   \n",
      "9         1010  Cliente_10        Hogar         7   95.00            Efectivo   \n",
      "10        1011  Cliente_11         Moda         3     NaN            Efectivo   \n",
      "\n",
      "         Fecha  \n",
      "0   2024-01-01  \n",
      "1   2024-01-02  \n",
      "2   2024-01-03  \n",
      "3   2024-01-04  \n",
      "4   2024-01-05  \n",
      "5   2024-01-06  \n",
      "6   2024-01-07  \n",
      "7   2024-01-08  \n",
      "8   2024-01-09  \n",
      "9   2024-01-10  \n",
      "10  2024-01-11  \n"
     ]
    }
   ],
   "source": [
    "df_sin_duplicados = df.drop_duplicates()\n",
    "print(df_sin_duplicados)"
   ]
  },
  {
   "cell_type": "code",
   "execution_count": null,
   "id": "2d3df946",
   "metadata": {},
   "outputs": [
    {
     "name": "stderr",
     "output_type": "stream",
     "text": [
      "C:\\Users\\dschu\\AppData\\Local\\Temp\\ipykernel_28776\\3851231412.py:2: FutureWarning: A value is trying to be set on a copy of a DataFrame or Series through chained assignment using an inplace method.\n",
      "The behavior will change in pandas 3.0. This inplace method will never work because the intermediate object on which we are setting values always behaves as a copy.\n",
      "\n",
      "For example, when doing 'df[col].method(value, inplace=True)', try using 'df.method({col: value}, inplace=True)' or df[col] = df[col].method(value) instead, to perform the operation inplace on the original object.\n",
      "\n",
      "\n",
      "  df_sin_duplicados['Precio'].fillna(df.Precio.mean(), inplace=True)\n",
      "C:\\Users\\dschu\\AppData\\Local\\Temp\\ipykernel_28776\\3851231412.py:2: SettingWithCopyWarning: \n",
      "A value is trying to be set on a copy of a slice from a DataFrame\n",
      "\n",
      "See the caveats in the documentation: https://pandas.pydata.org/pandas-docs/stable/user_guide/indexing.html#returning-a-view-versus-a-copy\n",
      "  df_sin_duplicados['Precio'].fillna(df.Precio.mean(), inplace=True)\n"
     ]
    },
    {
     "data": {
      "application/vnd.microsoft.datawrangler.viewer.v0+json": {
       "columns": [
        {
         "name": "index",
         "rawType": "int64",
         "type": "integer"
        },
        {
         "name": "Cliente_ID",
         "rawType": "int64",
         "type": "integer"
        },
        {
         "name": "Nombre",
         "rawType": "object",
         "type": "string"
        },
        {
         "name": "Categoría",
         "rawType": "object",
         "type": "unknown"
        },
        {
         "name": "Cantidad",
         "rawType": "int64",
         "type": "integer"
        },
        {
         "name": "Precio",
         "rawType": "float64",
         "type": "float"
        },
        {
         "name": "Método de Pago",
         "rawType": "object",
         "type": "string"
        },
        {
         "name": "Fecha",
         "rawType": "object",
         "type": "string"
        }
       ],
       "ref": "5c8ca761-9aeb-47c2-98a7-8ac4dc6de3f2",
       "rows": [
        [
         "0",
         "1001",
         "Cliente_1",
         "Electrónica",
         "2",
         "45.5",
         "PayPal",
         "2024-01-01"
        ],
        [
         "1",
         "1002",
         "Cliente_2",
         "Moda",
         "1",
         "30.0",
         "Tarjeta de Crédito",
         "2024-01-02"
        ],
        [
         "2",
         "1003",
         "Cliente_3",
         "Hogar",
         "3",
         "25.75",
         "Efectivo",
         "2024-01-03"
        ],
        [
         "3",
         "1004",
         "Cliente_4",
         "Deportes",
         "4",
         "50.0",
         "Tarjeta de Crédito",
         "2024-01-04"
        ],
        [
         "4",
         "1005",
         "Cliente_5",
         null,
         "2",
         "40.0",
         "PayPal",
         "2024-01-05"
        ],
        [
         "5",
         "1006",
         "Cliente_6",
         "Electrónica",
         "6",
         "75.25",
         "Efectivo",
         "2024-01-06"
        ],
        [
         "6",
         "1007",
         "Cliente_7",
         "Electrónica",
         "50",
         "90.0",
         "Tarjeta de Crédito",
         "2024-01-07"
        ],
        [
         "7",
         "1008",
         "Cliente_8",
         "Deportes",
         "60",
         "85.0",
         "Efectivo",
         "2024-01-08"
        ],
        [
         "8",
         "1009",
         "Cliente_9",
         "Moda",
         "5",
         "32.5",
         "PayPal",
         "2024-01-09"
        ],
        [
         "9",
         "1010",
         "Cliente_10",
         "Hogar",
         "7",
         "95.0",
         "Efectivo",
         "2024-01-10"
        ],
        [
         "10",
         "1011",
         "Cliente_11",
         "Moda",
         "3",
         "58.25",
         "Efectivo",
         "2024-01-11"
        ]
       ],
       "shape": {
        "columns": 7,
        "rows": 11
       }
      },
      "text/html": [
       "<div>\n",
       "<style scoped>\n",
       "    .dataframe tbody tr th:only-of-type {\n",
       "        vertical-align: middle;\n",
       "    }\n",
       "\n",
       "    .dataframe tbody tr th {\n",
       "        vertical-align: top;\n",
       "    }\n",
       "\n",
       "    .dataframe thead th {\n",
       "        text-align: right;\n",
       "    }\n",
       "</style>\n",
       "<table border=\"1\" class=\"dataframe\">\n",
       "  <thead>\n",
       "    <tr style=\"text-align: right;\">\n",
       "      <th></th>\n",
       "      <th>Cliente_ID</th>\n",
       "      <th>Nombre</th>\n",
       "      <th>Categoría</th>\n",
       "      <th>Cantidad</th>\n",
       "      <th>Precio</th>\n",
       "      <th>Método de Pago</th>\n",
       "      <th>Fecha</th>\n",
       "    </tr>\n",
       "  </thead>\n",
       "  <tbody>\n",
       "    <tr>\n",
       "      <th>0</th>\n",
       "      <td>1001</td>\n",
       "      <td>Cliente_1</td>\n",
       "      <td>Electrónica</td>\n",
       "      <td>2</td>\n",
       "      <td>45.50</td>\n",
       "      <td>PayPal</td>\n",
       "      <td>2024-01-01</td>\n",
       "    </tr>\n",
       "    <tr>\n",
       "      <th>1</th>\n",
       "      <td>1002</td>\n",
       "      <td>Cliente_2</td>\n",
       "      <td>Moda</td>\n",
       "      <td>1</td>\n",
       "      <td>30.00</td>\n",
       "      <td>Tarjeta de Crédito</td>\n",
       "      <td>2024-01-02</td>\n",
       "    </tr>\n",
       "    <tr>\n",
       "      <th>2</th>\n",
       "      <td>1003</td>\n",
       "      <td>Cliente_3</td>\n",
       "      <td>Hogar</td>\n",
       "      <td>3</td>\n",
       "      <td>25.75</td>\n",
       "      <td>Efectivo</td>\n",
       "      <td>2024-01-03</td>\n",
       "    </tr>\n",
       "    <tr>\n",
       "      <th>3</th>\n",
       "      <td>1004</td>\n",
       "      <td>Cliente_4</td>\n",
       "      <td>Deportes</td>\n",
       "      <td>4</td>\n",
       "      <td>50.00</td>\n",
       "      <td>Tarjeta de Crédito</td>\n",
       "      <td>2024-01-04</td>\n",
       "    </tr>\n",
       "    <tr>\n",
       "      <th>4</th>\n",
       "      <td>1005</td>\n",
       "      <td>Cliente_5</td>\n",
       "      <td>NaN</td>\n",
       "      <td>2</td>\n",
       "      <td>40.00</td>\n",
       "      <td>PayPal</td>\n",
       "      <td>2024-01-05</td>\n",
       "    </tr>\n",
       "    <tr>\n",
       "      <th>5</th>\n",
       "      <td>1006</td>\n",
       "      <td>Cliente_6</td>\n",
       "      <td>Electrónica</td>\n",
       "      <td>6</td>\n",
       "      <td>75.25</td>\n",
       "      <td>Efectivo</td>\n",
       "      <td>2024-01-06</td>\n",
       "    </tr>\n",
       "    <tr>\n",
       "      <th>6</th>\n",
       "      <td>1007</td>\n",
       "      <td>Cliente_7</td>\n",
       "      <td>Electrónica</td>\n",
       "      <td>50</td>\n",
       "      <td>90.00</td>\n",
       "      <td>Tarjeta de Crédito</td>\n",
       "      <td>2024-01-07</td>\n",
       "    </tr>\n",
       "    <tr>\n",
       "      <th>7</th>\n",
       "      <td>1008</td>\n",
       "      <td>Cliente_8</td>\n",
       "      <td>Deportes</td>\n",
       "      <td>60</td>\n",
       "      <td>85.00</td>\n",
       "      <td>Efectivo</td>\n",
       "      <td>2024-01-08</td>\n",
       "    </tr>\n",
       "    <tr>\n",
       "      <th>8</th>\n",
       "      <td>1009</td>\n",
       "      <td>Cliente_9</td>\n",
       "      <td>Moda</td>\n",
       "      <td>5</td>\n",
       "      <td>32.50</td>\n",
       "      <td>PayPal</td>\n",
       "      <td>2024-01-09</td>\n",
       "    </tr>\n",
       "    <tr>\n",
       "      <th>9</th>\n",
       "      <td>1010</td>\n",
       "      <td>Cliente_10</td>\n",
       "      <td>Hogar</td>\n",
       "      <td>7</td>\n",
       "      <td>95.00</td>\n",
       "      <td>Efectivo</td>\n",
       "      <td>2024-01-10</td>\n",
       "    </tr>\n",
       "    <tr>\n",
       "      <th>10</th>\n",
       "      <td>1011</td>\n",
       "      <td>Cliente_11</td>\n",
       "      <td>Moda</td>\n",
       "      <td>3</td>\n",
       "      <td>58.25</td>\n",
       "      <td>Efectivo</td>\n",
       "      <td>2024-01-11</td>\n",
       "    </tr>\n",
       "  </tbody>\n",
       "</table>\n",
       "</div>"
      ],
      "text/plain": [
       "    Cliente_ID      Nombre    Categoría  Cantidad  Precio      Método de Pago  \\\n",
       "0         1001   Cliente_1  Electrónica         2   45.50              PayPal   \n",
       "1         1002   Cliente_2         Moda         1   30.00  Tarjeta de Crédito   \n",
       "2         1003   Cliente_3        Hogar         3   25.75            Efectivo   \n",
       "3         1004   Cliente_4     Deportes         4   50.00  Tarjeta de Crédito   \n",
       "4         1005   Cliente_5          NaN         2   40.00              PayPal   \n",
       "5         1006   Cliente_6  Electrónica         6   75.25            Efectivo   \n",
       "6         1007   Cliente_7  Electrónica        50   90.00  Tarjeta de Crédito   \n",
       "7         1008   Cliente_8     Deportes        60   85.00            Efectivo   \n",
       "8         1009   Cliente_9         Moda         5   32.50              PayPal   \n",
       "9         1010  Cliente_10        Hogar         7   95.00            Efectivo   \n",
       "10        1011  Cliente_11         Moda         3   58.25            Efectivo   \n",
       "\n",
       "         Fecha  \n",
       "0   2024-01-01  \n",
       "1   2024-01-02  \n",
       "2   2024-01-03  \n",
       "3   2024-01-04  \n",
       "4   2024-01-05  \n",
       "5   2024-01-06  \n",
       "6   2024-01-07  \n",
       "7   2024-01-08  \n",
       "8   2024-01-09  \n",
       "9   2024-01-10  \n",
       "10  2024-01-11  "
      ]
     },
     "execution_count": 27,
     "metadata": {},
     "output_type": "execute_result"
    }
   ],
   "source": [
    "# Rellenar los valores nulos en la columna 'Precio' con la media de la columna\n",
    "df_sin_duplicados['Precio'].fillna(df.Precio.mean(), inplace=True)\n",
    "print(df_sin_duplicados)\n"
   ]
  },
  {
   "cell_type": "code",
   "execution_count": 28,
   "id": "6a361505",
   "metadata": {},
   "outputs": [],
   "source": [
    "# Eliminar filas con valores nulos en cualquier columna\n",
    "df_final = df_sin_duplicados.dropna()"
   ]
  },
  {
   "cell_type": "code",
   "execution_count": 29,
   "id": "dfebf8ec",
   "metadata": {},
   "outputs": [],
   "source": [
    "# Restablecer el índice después de eliminar filas\n",
    "df_final.reset_index(drop=True, inplace=True)\n"
   ]
  },
  {
   "cell_type": "code",
   "execution_count": 30,
   "id": "6479a91a",
   "metadata": {},
   "outputs": [
    {
     "name": "stdout",
     "output_type": "stream",
     "text": [
      "   Cliente_ID      Nombre    Categoría  Cantidad  Precio      Método de Pago  \\\n",
      "0        1001   Cliente_1  Electrónica         2   45.50              PayPal   \n",
      "1        1002   Cliente_2         Moda         1   30.00  Tarjeta de Crédito   \n",
      "2        1003   Cliente_3        Hogar         3   25.75            Efectivo   \n",
      "3        1004   Cliente_4     Deportes         4   50.00  Tarjeta de Crédito   \n",
      "4        1006   Cliente_6  Electrónica         6   75.25            Efectivo   \n",
      "5        1007   Cliente_7  Electrónica        50   90.00  Tarjeta de Crédito   \n",
      "6        1008   Cliente_8     Deportes        60   85.00            Efectivo   \n",
      "7        1009   Cliente_9         Moda         5   32.50              PayPal   \n",
      "8        1010  Cliente_10        Hogar         7   95.00            Efectivo   \n",
      "9        1011  Cliente_11         Moda         3   58.25            Efectivo   \n",
      "\n",
      "        Fecha  \n",
      "0  2024-01-01  \n",
      "1  2024-01-02  \n",
      "2  2024-01-03  \n",
      "3  2024-01-04  \n",
      "4  2024-01-06  \n",
      "5  2024-01-07  \n",
      "6  2024-01-08  \n",
      "7  2024-01-09  \n",
      "8  2024-01-10  \n",
      "9  2024-01-11  \n"
     ]
    }
   ],
   "source": [
    "#Mostrar el DataFrame limpio\n",
    "print(df_final)"
   ]
  },
  {
   "cell_type": "code",
   "execution_count": 31,
   "id": "3d0e687c",
   "metadata": {},
   "outputs": [],
   "source": [
    "# Calcular los límites para detectar outliers en la columna 'Cantidad' usando el rango intercuartílico (IQR)\n",
    "Q1 = df_final['Cantidad'].quantile(0.25)\n",
    "Q3 = df_final['Cantidad'].quantile(0.75)\n",
    "IQR = Q3 - Q1\n",
    "\n",
    "limite_inferior = Q1 - 1.5 * IQR\n",
    "limite_superior = Q3 + 1.5 * IQR\n",
    "\n",
    "outliers = df_final[(df_final['Cantidad'] < limite_inferior) | (df_final['Cantidad'] > limite_superior)]\n"
   ]
  },
  {
   "cell_type": "code",
   "execution_count": 32,
   "id": "b542753b",
   "metadata": {},
   "outputs": [
    {
     "name": "stdout",
     "output_type": "stream",
     "text": [
      "   Cliente_ID     Nombre    Categoría  Cantidad  Precio      Método de Pago  \\\n",
      "5        1007  Cliente_7  Electrónica        50    90.0  Tarjeta de Crédito   \n",
      "6        1008  Cliente_8     Deportes        60    85.0            Efectivo   \n",
      "\n",
      "        Fecha  \n",
      "5  2024-01-07  \n",
      "6  2024-01-08  \n"
     ]
    }
   ],
   "source": [
    "#Mostrar los outliers detectados\n",
    "print(outliers)"
   ]
  },
  {
   "cell_type": "code",
   "execution_count": 33,
   "id": "dc16cc3e",
   "metadata": {},
   "outputs": [],
   "source": [
    "# Corregir manualmente los valores de 'Cantidad' en las filas 5 y 6\n",
    "df_final.loc[[5, 6], 'Cantidad'] = [5, 6]"
   ]
  },
  {
   "cell_type": "code",
   "execution_count": 34,
   "id": "cc11efed",
   "metadata": {},
   "outputs": [
    {
     "name": "stdout",
     "output_type": "stream",
     "text": [
      "   Cliente_ID      Nombre    Categoría  Cantidad  Precio      Método de Pago  \\\n",
      "0        1001   Cliente_1  Electrónica         2   45.50              PayPal   \n",
      "1        1002   Cliente_2         Moda         1   30.00  Tarjeta de Crédito   \n",
      "2        1003   Cliente_3        Hogar         3   25.75            Efectivo   \n",
      "3        1004   Cliente_4     Deportes         4   50.00  Tarjeta de Crédito   \n",
      "4        1006   Cliente_6  Electrónica         6   75.25            Efectivo   \n",
      "5        1007   Cliente_7  Electrónica         5   90.00  Tarjeta de Crédito   \n",
      "6        1008   Cliente_8     Deportes         6   85.00            Efectivo   \n",
      "7        1009   Cliente_9         Moda         5   32.50              PayPal   \n",
      "8        1010  Cliente_10        Hogar         7   95.00            Efectivo   \n",
      "9        1011  Cliente_11         Moda         3   58.25            Efectivo   \n",
      "\n",
      "        Fecha  \n",
      "0  2024-01-01  \n",
      "1  2024-01-02  \n",
      "2  2024-01-03  \n",
      "3  2024-01-04  \n",
      "4  2024-01-06  \n",
      "5  2024-01-07  \n",
      "6  2024-01-08  \n",
      "7  2024-01-09  \n",
      "8  2024-01-10  \n",
      "9  2024-01-11  \n"
     ]
    }
   ],
   "source": [
    "# Mostrar el DataFrame final con los outliers corregidos\n",
    "print(df_final)"
   ]
  },
  {
   "cell_type": "code",
   "execution_count": 20,
   "id": "ac293580",
   "metadata": {},
   "outputs": [],
   "source": [
    "#Guardando el DataFrame limpio en un nuevo archivo CSV\n",
    "df_final.to_csv(r'C:\\Users\\dschu\\OneDrive\\Documentos\\CursoCienciasDeDatos\\M3\\s4\\ventas_limpio.csv', index=False)"
   ]
  }
 ],
 "metadata": {
  "kernelspec": {
   "display_name": ".venv (3.13.5)",
   "language": "python",
   "name": "python3"
  },
  "language_info": {
   "codemirror_mode": {
    "name": "ipython",
    "version": 3
   },
   "file_extension": ".py",
   "mimetype": "text/x-python",
   "name": "python",
   "nbconvert_exporter": "python",
   "pygments_lexer": "ipython3",
   "version": "3.13.5"
  }
 },
 "nbformat": 4,
 "nbformat_minor": 5
}
